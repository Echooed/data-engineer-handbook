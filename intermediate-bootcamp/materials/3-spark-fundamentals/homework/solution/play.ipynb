{
 "cells": [
  {
   "cell_type": "code",
   "execution_count": 1,
   "id": "0efac16f",
   "metadata": {},
   "outputs": [],
   "source": [
    "from pyspark.sql import SparkSession\n",
    "import sys\n",
    "import os"
   ]
  },
  {
   "cell_type": "code",
   "execution_count": 2,
   "id": "a9a4c547",
   "metadata": {},
   "outputs": [],
   "source": [
    "def create_spark_session():\n",
    "    spark = SparkSession.builder \\\n",
    "        .appName(\"Spark version for actors and events\") \\\n",
    "        .config(\"spark.sql.adaptive.enabled\", \"true\") \\\n",
    "        .config(\"spark.jars.packages\", \"org.postgresql:postgresql:42.6.0\") \\\n",
    "        .config(\"spark.sql.adaptive.coalescePartitions.enabled\", \"true\") \\\n",
    "        .getOrCreate()\n",
    "\n",
    "    # Disable automatic broadcast join threshold as required\n",
    "    spark.conf.set(\"spark.sql.autoBroadcastJoinThreshold\", \"-1\")\n",
    "    \n",
    "    return spark"
   ]
  },
  {
   "cell_type": "code",
   "execution_count": 7,
   "id": "fdae06bc",
   "metadata": {},
   "outputs": [],
   "source": [
    "# 1. Initialize Spark\n",
    "spark = create_spark_session()\n",
    "\n",
    "# 2. Define Postgres connection info\n",
    "url = \"jdbc:postgresql://localhost:5434/postgres\"\n",
    "properties = {\n",
    "    \"user\": \"postgres\",\n",
    "    \"password\": \"postgres\",\n",
    "    \"driver\": \"org.postgresql.Driver\"\n",
    "}"
   ]
  },
  {
   "cell_type": "code",
   "execution_count": 11,
   "id": "28eda474",
   "metadata": {},
   "outputs": [],
   "source": [
    "spark = SparkSession.builder \\\n",
    "    .appName(\"NBA Database Connection\") \\\n",
    "    .config(\"spark.jars.packages\", \"org.postgresql:postgresql:42.7.3\") \\\n",
    "    .getOrCreate()"
   ]
  },
  {
   "cell_type": "code",
   "execution_count": 8,
   "id": "affd30db",
   "metadata": {},
   "outputs": [
    {
     "name": "stderr",
     "output_type": "stream",
     "text": [
      "25/08/31 18:22:29 WARN SparkStringUtils: Truncated the string representation of a plan since it was too large. This behavior can be adjusted by setting 'spark.sql.debug.maxToStringFields'.\n",
      "                                                                                \r"
     ]
    },
    {
     "name": "stdout",
     "output_type": "stream",
     "text": [
      "+--------+----------+-----------------+---------+---------+----------------+--------+--------------+--------------------+-----+----+----+------+----+----+-------+----+----+------+----+----+----+----+----+----+----+----+----+----------+\n",
      "| game_id|   team_id|team_abbreviation|team_city|player_id|     player_name|nickname|start_position|             comment|  min| fgm| fga|fg_pct|fg3m|fg3a|fg3_pct| ftm| fta|ft_pct|oreb|dreb| reb| ast| stl| blk|  TO|  pf| pts|plus_minus|\n",
      "+--------+----------+-----------------+---------+---------+----------------+--------+--------------+--------------------+-----+----+----+------+----+----+-------+----+----+------+----+----+----+----+----+----+----+----+----+----------+\n",
      "|22200162|1610612737|              ATL|  Atlanta|  1630249|      Vit Krejci|     Vit|          NULL|DNP - Coach's Dec...| NULL|NULL|NULL|  NULL|NULL|NULL|   NULL|NULL|NULL|  NULL|NULL|NULL|NULL|NULL|NULL|NULL|NULL|NULL|NULL|      NULL|\n",
      "|22200162|1610612737|              ATL|  Atlanta|  1631213|   Tyrese Martin|  Tyrese|          NULL|DNP - Coach's Dec...| NULL|NULL|NULL|  NULL|NULL|NULL|   NULL|NULL|NULL|  NULL|NULL|NULL|NULL|NULL|NULL|NULL|NULL|NULL|NULL|      NULL|\n",
      "|22200163|1610612765|              DET|  Detroit|   202711|Bojan Bogdanovic|   Bojan|             F|                NULL|26:11| 6.0|11.0| 0.545| 1.0| 4.0|   0.25| 4.0| 6.0| 0.667| 0.0| 2.0| 2.0| 1.0| 1.0| 0.0| 2.0| 0.0|17.0|     -19.0|\n",
      "|22200163|1610612765|              DET|  Detroit|  1630180|      Saddiq Bey|  Saddiq|             F|                NULL|32:48| 4.0|12.0| 0.333| 1.0| 6.0|  0.167| 9.0|10.0|   0.9| 1.0| 3.0| 4.0| 0.0| 1.0| 0.0| 1.0| 2.0|18.0|     -20.0|\n",
      "|22200163|1610612765|              DET|  Detroit|  1630191|  Isaiah Stewart|  Isaiah|             C|                NULL|20:29| 3.0| 6.0|   0.5| 1.0| 4.0|   0.25| 5.0| 6.0| 0.833| 3.0| 7.0|10.0| 1.0| 0.0| 0.0| 1.0| 4.0|12.0|      -2.0|\n",
      "+--------+----------+-----------------+---------+---------+----------------+--------+--------------+--------------------+-----+----+----+------+----+----+-------+----+----+------+----+----+----+----+----+----+----+----+----+----------+\n",
      "only showing top 5 rows\n"
     ]
    }
   ],
   "source": [
    "df = spark.read.jdbc(url=url, table=\"game_details\", properties=properties)\n",
    "\n",
    "# 5. Show data\n",
    "df.show(5)"
   ]
  },
  {
   "cell_type": "code",
   "execution_count": 11,
   "id": "244b2978",
   "metadata": {},
   "outputs": [
    {
     "name": "stderr",
     "output_type": "stream",
     "text": [
      "[Stage 1:>                                                          (0 + 1) / 1]\r"
     ]
    },
    {
     "name": "stdout",
     "output_type": "stream",
     "text": [
      "+---+--------+--------------------+--------------------+--------------------+--------------------+\n",
      "|url|referrer|             user_id|           device_id|                host|          event_time|\n",
      "+---+--------+--------------------+--------------------+--------------------+--------------------+\n",
      "|  /|    NULL|                NULL|99067568206611800...| www.zachwilson.tech|2023-01-09 11:55:...|\n",
      "|  /|    NULL|16647130749494100...|99067568206611800...| www.zachwilson.tech|2023-01-09 20:10:...|\n",
      "|  /|    NULL|                NULL|12048389584711700...|admin.zachwilson....|2023-01-10 04:43:...|\n",
      "|  /|    NULL|                NULL|12048389584711700...| www.zachwilson.tech|2023-01-14 05:25:...|\n",
      "|  /|    NULL|                NULL|12048389584711700...| www.zachwilson.tech|2023-01-14 05:25:...|\n",
      "+---+--------+--------------------+--------------------+--------------------+--------------------+\n",
      "only showing top 5 rows\n"
     ]
    },
    {
     "name": "stderr",
     "output_type": "stream",
     "text": [
      "                                                                                \r"
     ]
    }
   ],
   "source": [
    "events_df = spark.read.jdbc(url=url, table=\"events\", properties=properties)\n",
    "\n",
    "events_df.show(5)"
   ]
  },
  {
   "cell_type": "code",
   "execution_count": 9,
   "id": "69451223",
   "metadata": {},
   "outputs": [
    {
     "name": "stdout",
     "output_type": "stream",
     "text": [
      "List(spark://192.168.1.139:38571/jars/org.checkerframework_checker-qual-3.31.0.jar, spark://192.168.1.139:38571/jars/org.postgresql_postgresql-42.6.0.jar)\n"
     ]
    }
   ],
   "source": [
    "jars = spark.sparkContext._jsc.sc().listJars()\n",
    "print(jars)"
   ]
  }
 ],
 "metadata": {
  "kernelspec": {
   "display_name": "boot",
   "language": "python",
   "name": "python3"
  },
  "language_info": {
   "codemirror_mode": {
    "name": "ipython",
    "version": 3
   },
   "file_extension": ".py",
   "mimetype": "text/x-python",
   "name": "python",
   "nbconvert_exporter": "python",
   "pygments_lexer": "ipython3",
   "version": "3.9.23"
  }
 },
 "nbformat": 4,
 "nbformat_minor": 5
}

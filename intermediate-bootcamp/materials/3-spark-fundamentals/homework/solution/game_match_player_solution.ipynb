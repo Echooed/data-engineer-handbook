{
 "cells": [
  {
   "cell_type": "code",
   "execution_count": 1,
   "id": "48ac146e",
   "metadata": {},
   "outputs": [],
   "source": [
    "from pyspark.sql import SparkSession\n",
    "from pyspark.sql.functions import *\n",
    "from pyspark.sql.types import *\n",
    "import os\n",
    "import builtins  # gives access to Python's built-in round()"
   ]
  },
  {
   "cell_type": "code",
   "execution_count": 2,
   "id": "2e3ff86a",
   "metadata": {},
   "outputs": [],
   "source": [
    "def create_spark_session():\n",
    "    \"\"\"Create and configure Spark session with optimizations\"\"\"\n",
    "    spark = SparkSession.builder \\\n",
    "        .appName(\"Spark Fundamentals Week Analysis\") \\\n",
    "        .config(\"spark.sql.adaptive.enabled\", \"true\") \\\n",
    "        .config(\"spark.sql.adaptive.coalescePartitions.enabled\", \"true\") \\\n",
    "        .getOrCreate()\n",
    "    \n",
    "    # Disable automatic broadcast join threshold as required\n",
    "    spark.conf.set(\"spark.sql.autoBroadcastJoinThreshold\", \"-1\")\n",
    "    \n",
    "    return spark"
   ]
  },
  {
   "cell_type": "code",
   "execution_count": 3,
   "id": "be8c73f9",
   "metadata": {},
   "outputs": [
    {
     "name": "stderr",
     "output_type": "stream",
     "text": [
      "WARNING: Using incubator modules: jdk.incubator.vector\n",
      "Using Spark's default log4j profile: org/apache/spark/log4j2-defaults.properties\n",
      "25/08/31 13:34:51 WARN Utils: Your hostname, dataspirolinux, resolves to a loopback address: 127.0.1.1; using 192.168.1.139 instead (on interface wlp1s0)\n",
      "25/08/31 13:34:51 WARN Utils: Set SPARK_LOCAL_IP if you need to bind to another address\n",
      "Using Spark's default log4j profile: org/apache/spark/log4j2-defaults.properties\n",
      "Setting default log level to \"WARN\".\n",
      "To adjust logging level use sc.setLogLevel(newLevel). For SparkR, use setLogLevel(newLevel).\n",
      "25/08/31 13:34:53 WARN NativeCodeLoader: Unable to load native-hadoop library for your platform... using builtin-java classes where applicable\n"
     ]
    }
   ],
   "source": [
    "# 1. Initialize Spark\n",
    "spark = create_spark_session()\n",
    "\n",
    "# 2. Define Postgres connection info\n",
    "url = \"jdbc:postgresql://localhost:5434/postgres\"\n",
    "properties = {\n",
    "    \"user\": \"postgres\",\n",
    "    \"password\": \"postgres\",\n",
    "    \"driver\": \"org.postgresql.Driver\"\n",
    "}"
   ]
  },
  {
   "cell_type": "code",
   "execution_count": null,
   "id": "095eeae4",
   "metadata": {},
   "outputs": [
    {
     "name": "stderr",
     "output_type": "stream",
     "text": [
      "                                                                                \r"
     ]
    }
   ],
   "source": [
    "# Create database\n",
    "spark.sql(\"CREATE DATABASE IF NOT EXISTS actors_events_spark_\")\n",
    "spark.sql(\"USE gaming_analysis\")\n",
    "\n",
    "\n",
    "# load csv into dataframe\n",
    "\n",
    "df_maps = spark.read.csv(\n",
    "    \"/home/dataspiro/data-engineer-handbook/bootcamp/materials/3-spark-fundamentals/data//maps.csv\",\n",
    "    header=True,\n",
    "    inferSchema=True\n",
    ")\n",
    "\n",
    "df_matches = spark.read.csv(\n",
    "    \"/home/dataspiro/data-engineer-handbook/bootcamp/materials/3-spark-fundamentals/data//matches.csv\",\n",
    "    header=True,\n",
    "    inferSchema=True\n",
    ")\n",
    "df_medals = spark.read.csv(\n",
    "    \"/home/dataspiro/data-engineer-handbook/bootcamp/materials/3-spark-fundamentals/data//medals.csv\",\n",
    "    header=True,\n",
    "    inferSchema=True\n",
    ")\n",
    "df_match_details = spark.read.csv(\n",
    "    \"/home/dataspiro/data-engineer-handbook/bootcamp/materials/3-spark-fundamentals/data//match_details.csv\",\n",
    "    header=True,\n",
    "    inferSchema=True\n",
    ")\n",
    "df_medals_matches_players = spark.read.csv(\n",
    "    \"/home/dataspiro/data-engineer-handbook/bootcamp/materials/3-spark-fundamentals/data//medals_matches_players.csv\",\n",
    "    header=True,\n",
    "    inferSchema=True\n",
    ")"
   ]
  },
  {
   "cell_type": "code",
   "execution_count": 5,
   "id": "076b9e98",
   "metadata": {},
   "outputs": [
    {
     "name": "stdout",
     "output_type": "stream",
     "text": [
      "+--------------------+-------------------+--------------------+\n",
      "|               mapid|               name|         description|\n",
      "+--------------------+-------------------+--------------------+\n",
      "|c93d708f-f206-11e...|              Urban|Andesia was the c...|\n",
      "|cb251c51-f206-11e...|     Raid on Apex 7|This unbroken rin...|\n",
      "|c854e54f-f206-11e...|March on Stormbreak|                NULL|\n",
      "|c8d69870-f206-11e...| Escape from A.R.C.|Scientists flocke...|\n",
      "|73ed1fd0-45e5-4bb...|             Osiris|                NULL|\n",
      "+--------------------+-------------------+--------------------+\n",
      "only showing top 5 rows\n",
      "+--------------------+--------------------+------------+--------------------+--------------------+-------------+-------------------+--------------+---------+--------------------+\n",
      "|            match_id|               mapid|is_team_game|         playlist_id|     game_variant_id|is_match_over|    completion_date|match_duration|game_mode|      map_variant_id|\n",
      "+--------------------+--------------------+------------+--------------------+--------------------+-------------+-------------------+--------------+---------+--------------------+\n",
      "|11de1a94-8d07-416...|c7edbf0f-f206-11e...|        true|f72e0ef0-7c4a-430...|1e473914-46e4-408...|         true|2016-02-22 00:00:00|          NULL|     NULL|                NULL|\n",
      "|d3643e71-3e51-43e...|cb914b9e-f206-11e...|       false|d0766624-dbd7-453...|257a305e-4dd3-41f...|         true|2016-02-14 00:00:00|          NULL|     NULL|                NULL|\n",
      "|d78d2aae-36e4-48a...|c7edbf0f-f206-11e...|        true|f72e0ef0-7c4a-430...|1e473914-46e4-408...|         true|2016-03-24 00:00:00|          NULL|     NULL|55e5ee2e-88df-465...|\n",
      "|b440069e-ec5f-4f5...|c7edbf0f-f206-11e...|        true|f72e0ef0-7c4a-430...|1e473914-46e4-408...|         true|2015-12-23 00:00:00|          NULL|     NULL|ec3eef73-13e3-4d4...|\n",
      "|1dd475fc-ee6b-4e1...|c93d708f-f206-11e...|        true|0e39ead4-383b-445...|42f97cca-2cb4-497...|         true|2016-04-07 00:00:00|          NULL|     NULL|                NULL|\n",
      "+--------------------+--------------------+------------+--------------------+--------------------+-------------+-------------------+--------------+---------+--------------------+\n",
      "only showing top 5 rows\n",
      "+----------+--------------------+-----------+----------+------------------+-------------------+------------+-------------+--------------+--------------------+--------------+----------+\n",
      "|  medal_id|          sprite_uri|sprite_left|sprite_top|sprite_sheet_width|sprite_sheet_height|sprite_width|sprite_height|classification|         description|          name|difficulty|\n",
      "+----------+--------------------+-----------+----------+------------------+-------------------+------------+-------------+--------------+--------------------+--------------+----------+\n",
      "|2315448068|                NULL|       NULL|      NULL|              NULL|               NULL|        NULL|         NULL|          NULL|                NULL|          NULL|      NULL|\n",
      "|3565441934|                NULL|       NULL|      NULL|              NULL|               NULL|        NULL|         NULL|          NULL|                NULL|          NULL|      NULL|\n",
      "|4162659350|https://content.h...|        750|       750|                74|                 74|        1125|          899|      Breakout|Kill the last ene...| Buzzer Beater|        45|\n",
      "|1573153198|https://content.h...|          0|       300|                74|                 74|        1125|          899|      Breakout|Survive a one-on-...|    Vanquisher|        30|\n",
      "| 298813630|https://content.h...|          0|       825|                74|                 74|        1125|          899|         Style|Kill an enemy wit...|Spartan Charge|       135|\n",
      "+----------+--------------------+-----------+----------+------------------+-------------------+------------+-------------+--------------+--------------------+--------------+----------+\n",
      "only showing top 5 rows\n"
     ]
    },
    {
     "name": "stderr",
     "output_type": "stream",
     "text": [
      "25/08/31 13:35:18 WARN SparkStringUtils: Truncated the string representation of a plan since it was too large. This behavior can be adjusted by setting 'spark.sql.debug.maxToStringFields'.\n"
     ]
    },
    {
     "name": "stdout",
     "output_type": "stream",
     "text": [
      "+--------------------+---------------+---------------------+------------+-----------------+--------+-----------------+------------------------+------------+---------------------------------+-----------------+----------------+-----------------------+-----------+--------------------------------+----------------+-------------------+---------------+-------------------+------------------+----------------------+--------------------------+-------------------------+------------------------+-------------------------+---------------------------+-------------------------------+--------------------------------+---------------------------+--------------------------------+-------------------------------+-------------------+--------------------+--------------------------+-------+-------+\n",
      "|            match_id|player_gamertag|previous_spartan_rank|spartan_rank|previous_total_xp|total_xp|previous_csr_tier|previous_csr_designation|previous_csr|previous_csr_percent_to_next_tier|previous_csr_rank|current_csr_tier|current_csr_designation|current_csr|current_csr_percent_to_next_tier|current_csr_rank|player_rank_on_team|player_finished|player_average_life|player_total_kills|player_total_headshots|player_total_weapon_damage|player_total_shots_landed|player_total_melee_kills|player_total_melee_damage|player_total_assassinations|player_total_ground_pound_kills|player_total_shoulder_bash_kills|player_total_grenade_damage|player_total_power_weapon_damage|player_total_power_weapon_grabs|player_total_deaths|player_total_assists|player_total_grenade_kills|did_win|team_id|\n",
      "+--------------------+---------------+---------------------+------------+-----------------+--------+-----------------+------------------------+------------+---------------------------------+-----------------+----------------+-----------------------+-----------+--------------------------------+----------------+-------------------+---------------+-------------------+------------------+----------------------+--------------------------+-------------------------+------------------------+-------------------------+---------------------------+-------------------------------+--------------------------------+---------------------------+--------------------------------+-------------------------------+-------------------+--------------------+--------------------------+-------+-------+\n",
      "|71d79b23-4143-435...|      taterbase|                    5|           5|            12537|   13383|                1|                       3|           0|                               98|             NULL|               2|                      3|          0|                              26|            NULL|                  4|          false|        PT14.81149S|                 6|                     4|                     255.0|                       28|                       0|                      0.0|                          0|                              0|                               0|                        0.0|                             0.0|                              0|                 13|                   1|                         0|      1|      1|\n",
      "|71d79b23-4143-435...| SuPeRSaYaInG0D|                   18|          18|           131943|  132557|                2|                       3|           0|                                2|             NULL|               1|                      3|          0|                              76|            NULL|                  7|          false|      PT11.2990845S|                 7|                     3|        350.58792304992676|                       49|                       1|                     45.0|                          0|                              0|                               0|                        0.0|                             0.0|                              0|                 18|                   2|                         0|      0|      0|\n",
      "|71d79b23-4143-435...|       EcZachly|                   21|          21|           168811|  169762|                2|                       5|           0|                               94|             NULL|               3|                      5|          0|                              24|            NULL|                  3|          false|      PT19.1357063S|                12|                    12|                     625.0|                       43|                       0|                      0.0|                          0|                              0|                               0|                        0.0|                             0.0|                              0|                 10|                   4|                         0|      1|      1|\n",
      "|71d79b23-4143-435...|    johnsnake04|                   14|          14|            64073|   64639|             NULL|                    NULL|        NULL|                             NULL|             NULL|            NULL|                   NULL|       NULL|                            NULL|            NULL|                  6|          false|      PT21.1521599S|                13|                    13|                     605.0|                       24|                       0|                      0.0|                          0|                              0|                               0|                        0.0|                             0.0|                              0|                  9|                   2|                         0|      0|      0|\n",
      "|71d79b23-4143-435...| Super Mac Bros|                   26|          26|           243425|  244430|                1|                       5|           0|                               86|             NULL|               2|                      5|          0|                               8|            NULL|                  2|          false|      PT12.8373793S|                13|                    12|                     595.0|                       32|                       1|       20.004501342773438|                          0|                              0|                               0|                        0.0|                             0.0|                              0|                 15|                   2|                         0|      1|      1|\n",
      "+--------------------+---------------+---------------------+------------+-----------------+--------+-----------------+------------------------+------------+---------------------------------+-----------------+----------------+-----------------------+-----------+--------------------------------+----------------+-------------------+---------------+-------------------+------------------+----------------------+--------------------------+-------------------------+------------------------+-------------------------+---------------------------+-------------------------------+--------------------------------+---------------------------+--------------------------------+-------------------------------+-------------------+--------------------+--------------------------+-------+-------+\n",
      "only showing top 5 rows\n",
      "+--------------------+---------------+----------+-----+\n",
      "|            match_id|player_gamertag|  medal_id|count|\n",
      "+--------------------+---------------+----------+-----+\n",
      "|009fdac5-e15c-47c...|       EcZachly|3261908037|    7|\n",
      "|009fdac5-e15c-47c...|       EcZachly| 824733727|    2|\n",
      "|009fdac5-e15c-47c...|       EcZachly|2078758684|    2|\n",
      "|009fdac5-e15c-47c...|       EcZachly|2782465081|    2|\n",
      "|9169d1a3-955c-4ea...|       EcZachly|3001183151|    1|\n",
      "+--------------------+---------------+----------+-----+\n",
      "only showing top 5 rows\n"
     ]
    }
   ],
   "source": [
    "# inspect all loaded dfs\n",
    "df_maps.show(5)\n",
    "df_matches.show(5)\n",
    "df_medals.show(5)\n",
    "df_match_details.show(5)\n",
    "df_medals_matches_players.show(5)"
   ]
  },
  {
   "cell_type": "code",
   "execution_count": 6,
   "id": "6d08832b",
   "metadata": {},
   "outputs": [],
   "source": [
    "# print(\"Creating bucketed match_details table...\")\n",
    "# df_matches.write \\\n",
    "#     .mode(\"overwrite\") \\\n",
    "#     .bucketBy(16, \"match_id\") \\\n",
    "#     .sortBy(\"match_id\") \\\n",
    "#     .option(\"path\", \"/tmp/bucketed_tables/match_details\") \\\n",
    "#     .saveAsTable(\"bucketed_match_details\")"
   ]
  },
  {
   "cell_type": "code",
   "execution_count": 7,
   "id": "56570e41",
   "metadata": {},
   "outputs": [],
   "source": [
    "# print(\"Creating bucketed match_details table...\")\n",
    "# df_maps.write \\\n",
    "#     .mode(\"overwrite\") \\\n",
    "#     .bucketBy(16, \"mapid\") \\\n",
    "#     .sortBy(\"mapid\") \\\n",
    "#     .option(\"path\", \"/tmp/bucketed_tables/match_details\") \\\n",
    "#     .saveAsTable(\"bucketed_maps\")"
   ]
  },
  {
   "cell_type": "code",
   "execution_count": 9,
   "id": "3fab6dd4",
   "metadata": {},
   "outputs": [
    {
     "name": "stderr",
     "output_type": "stream",
     "text": [
      "                                                                                \r"
     ]
    }
   ],
   "source": [
    "spark.conf.set(\"spark.sql.sources.bucketing.enabled\", \"true\")\n",
    "spark.conf.set(\"spark.sql.sources.bucketing.autoBucketedScan.enabled\", \"true\")\n",
    "\n",
    "\n",
    "# Bucket match_details, matches, and medals_matches_players on match_id with 16 buckets\n",
    "df_match_details.write.bucketBy(16, \"match_id\").saveAsTable(\"bucketed_match_details\")\n",
    "df_matches.write.bucketBy(16, \"match_id\").saveAsTable(\"bucketed_matches\")\n",
    "df_medals_matches_players.write.bucketBy(16, \"match_id\").saveAsTable(\"bucketed_medals_matches_players\")\n",
    "\n",
    "# regular broadcast\n",
    "\n",
    "df_medals.write.saveAsTable(\"broadcast_medals\")\n",
    "\n",
    "df_maps.write.saveAsTable(\"broadcast_maps\")\n"
   ]
  },
  {
   "cell_type": "code",
   "execution_count": 10,
   "id": "8a57e42e",
   "metadata": {},
   "outputs": [],
   "source": [
    "# Load bucketed tables\n",
    "bucketed_match_details = spark.table(\"bucketed_match_details\")\n",
    "bucketed_matches = spark.table(\"bucketed_matches\")\n",
    "bucketed_medals_matches_players = spark.table(\"bucketed_medals_matches_players\")\n",
    "    "
   ]
  },
  {
   "cell_type": "code",
   "execution_count": 11,
   "id": "bc0c0f34",
   "metadata": {},
   "outputs": [],
   "source": [
    "# Load broadcast tables\n",
    "df_medals = spark.table(\"broadcast_medals\")\n",
    "df_maps = spark.table(\"broadcast_maps\")"
   ]
  },
  {
   "cell_type": "code",
   "execution_count": 12,
   "id": "01121731",
   "metadata": {},
   "outputs": [],
   "source": [
    "# manually broadcast medals and maps\n",
    "broadcast_medals = broadcast(df_medals)\n",
    "broadcast_maps = broadcast(df_maps)"
   ]
  },
  {
   "cell_type": "code",
   "execution_count": 13,
   "id": "32c723e3",
   "metadata": {},
   "outputs": [
    {
     "name": "stdout",
     "output_type": "stream",
     "text": [
      "+---------------+--------------------+-----------+\n",
      "|      namespace|           tableName|isTemporary|\n",
      "+---------------+--------------------+-----------+\n",
      "|gaming_analysis|      broadcast_maps|      false|\n",
      "|gaming_analysis|    broadcast_medals|      false|\n",
      "|gaming_analysis|bucketed_match_de...|      false|\n",
      "|gaming_analysis|    bucketed_matches|      false|\n",
      "|gaming_analysis|bucketed_medals_m...|      false|\n",
      "+---------------+--------------------+-----------+\n",
      "\n"
     ]
    }
   ],
   "source": [
    "# show table in warehouse\n",
    "spark.sql(\"SHOW TABLES\").show()"
   ]
  },
  {
   "cell_type": "code",
   "execution_count": 14,
   "id": "466ba231",
   "metadata": {},
   "outputs": [
    {
     "name": "stderr",
     "output_type": "stream",
     "text": [
      "[Stage 24:>                                                         (0 + 1) / 1]\r"
     ]
    },
    {
     "name": "stdout",
     "output_type": "stream",
     "text": [
      "+--------------------+---------------+---------------------+------------+-----------------+--------+-----------------+------------------------+------------+---------------------------------+-----------------+----------------+-----------------------+-----------+--------------------------------+----------------+-------------------+---------------+-------------------+------------------+----------------------+--------------------------+-------------------------+------------------------+-------------------------+---------------------------+-------------------------------+--------------------------------+---------------------------+--------------------------------+-------------------------------+-------------------+--------------------+--------------------------+-------+-------+--------------------+------------+--------------------+--------------------+-------------+-------------------+--------------+---------+--------------------+----------+-----+\n",
      "|            match_id|player_gamertag|previous_spartan_rank|spartan_rank|previous_total_xp|total_xp|previous_csr_tier|previous_csr_designation|previous_csr|previous_csr_percent_to_next_tier|previous_csr_rank|current_csr_tier|current_csr_designation|current_csr|current_csr_percent_to_next_tier|current_csr_rank|player_rank_on_team|player_finished|player_average_life|player_total_kills|player_total_headshots|player_total_weapon_damage|player_total_shots_landed|player_total_melee_kills|player_total_melee_damage|player_total_assassinations|player_total_ground_pound_kills|player_total_shoulder_bash_kills|player_total_grenade_damage|player_total_power_weapon_damage|player_total_power_weapon_grabs|player_total_deaths|player_total_assists|player_total_grenade_kills|did_win|team_id|               mapid|is_team_game|         playlist_id|     game_variant_id|is_match_over|    completion_date|match_duration|game_mode|      map_variant_id|  medal_id|count|\n",
      "+--------------------+---------------+---------------------+------------+-----------------+--------+-----------------+------------------------+------------+---------------------------------+-----------------+----------------+-----------------------+-----------+--------------------------------+----------------+-------------------+---------------+-------------------+------------------+----------------------+--------------------------+-------------------------+------------------------+-------------------------+---------------------------+-------------------------------+--------------------------------+---------------------------+--------------------------------+-------------------------------+-------------------+--------------------+--------------------------+-------+-------+--------------------+------------+--------------------+--------------------+-------------+-------------------+--------------+---------+--------------------+----------+-----+\n",
      "|0000e3cf-727c-491...|         Draper|                   93|          93|          2756060| 2760247|             NULL|                    NULL|        NULL|                             NULL|             NULL|            NULL|                   NULL|       NULL|                            NULL|            NULL|                  2|          false|      PT25.4528583S|                23|                     6|        2362.1265325546265|                      231|                       3|        235.6045150756836|                          0|                              0|                               0|         176.28968048095703|               224.1402006149292|                              0|                 18|                   4|                         1|      0|      0|ce89a40f-f206-11e...|       false|d0766624-dbd7-453...|257a305e-4dd3-41f...|         true|2016-05-09 00:00:00|          NULL|     NULL|f2935c9a-14eb-469...|2078758684|    2|\n",
      "|0000e3cf-727c-491...|         Draper|                   93|          93|          2756060| 2760247|             NULL|                    NULL|        NULL|                             NULL|             NULL|            NULL|                   NULL|       NULL|                            NULL|            NULL|                  2|          false|      PT25.4528583S|                23|                     6|        2362.1265325546265|                      231|                       3|        235.6045150756836|                          0|                              0|                               0|         176.28968048095703|               224.1402006149292|                              0|                 18|                   4|                         1|      0|      0|ce89a40f-f206-11e...|       false|d0766624-dbd7-453...|257a305e-4dd3-41f...|         true|2016-05-09 00:00:00|          NULL|     NULL|f2935c9a-14eb-469...|2430242797|    1|\n",
      "|0000e3cf-727c-491...|         Draper|                   93|          93|          2756060| 2760247|             NULL|                    NULL|        NULL|                             NULL|             NULL|            NULL|                   NULL|       NULL|                            NULL|            NULL|                  2|          false|      PT25.4528583S|                23|                     6|        2362.1265325546265|                      231|                       3|        235.6045150756836|                          0|                              0|                               0|         176.28968048095703|               224.1402006149292|                              0|                 18|                   4|                         1|      0|      0|ce89a40f-f206-11e...|       false|d0766624-dbd7-453...|257a305e-4dd3-41f...|         true|2016-05-09 00:00:00|          NULL|     NULL|f2935c9a-14eb-469...| 250435527|    1|\n",
      "|0000e3cf-727c-491...|         Draper|                   93|          93|          2756060| 2760247|             NULL|                    NULL|        NULL|                             NULL|             NULL|            NULL|                   NULL|       NULL|                            NULL|            NULL|                  2|          false|      PT25.4528583S|                23|                     6|        2362.1265325546265|                      231|                       3|        235.6045150756836|                          0|                              0|                               0|         176.28968048095703|               224.1402006149292|                              0|                 18|                   4|                         1|      0|      0|ce89a40f-f206-11e...|       false|d0766624-dbd7-453...|257a305e-4dd3-41f...|         true|2016-05-09 00:00:00|          NULL|     NULL|f2935c9a-14eb-469...|3261908037|    4|\n",
      "|0000e3cf-727c-491...|         Draper|                   93|          93|          2756060| 2760247|             NULL|                    NULL|        NULL|                             NULL|             NULL|            NULL|                   NULL|       NULL|                            NULL|            NULL|                  2|          false|      PT25.4528583S|                23|                     6|        2362.1265325546265|                      231|                       3|        235.6045150756836|                          0|                              0|                               0|         176.28968048095703|               224.1402006149292|                              0|                 18|                   4|                         1|      0|      0|ce89a40f-f206-11e...|       false|d0766624-dbd7-453...|257a305e-4dd3-41f...|         true|2016-05-09 00:00:00|          NULL|     NULL|f2935c9a-14eb-469...|1986137636|    1|\n",
      "+--------------------+---------------+---------------------+------------+-----------------+--------+-----------------+------------------------+------------+---------------------------------+-----------------+----------------+-----------------------+-----------+--------------------------------+----------------+-------------------+---------------+-------------------+------------------+----------------------+--------------------------+-------------------------+------------------------+-------------------------+---------------------------+-------------------------------+--------------------------------+---------------------------+--------------------------------+-------------------------------+-------------------+--------------------+--------------------------+-------+-------+--------------------+------------+--------------------+--------------------+-------------+-------------------+--------------+---------+--------------------+----------+-----+\n",
      "only showing top 5 rows\n"
     ]
    },
    {
     "name": "stderr",
     "output_type": "stream",
     "text": [
      "                                                                                \r"
     ]
    }
   ],
   "source": [
    "# The optimized join strategy with aliases\n",
    "optimized_join = bucketed_match_details.alias(\"md\") \\\n",
    "    .join(bucketed_matches.alias(\"m\"), \"match_id\") \\\n",
    "    .join(bucketed_medals_matches_players.alias(\"mmp\"), [\"match_id\", \"player_gamertag\"], \"left\")\n",
    "\n",
    "optimized_join.show(5)"
   ]
  },
  {
   "cell_type": "code",
   "execution_count": 15,
   "id": "24f29791",
   "metadata": {},
   "outputs": [
    {
     "name": "stderr",
     "output_type": "stream",
     "text": [
      "[Stage 25:==========================================>             (12 + 4) / 16]\r"
     ]
    },
    {
     "name": "stdout",
     "output_type": "stream",
     "text": [
      "+--------------------+---------------+------------------+--------------------+--------------------+----------+\n",
      "|            match_id|player_gamertag|player_total_kills|               mapid|         playlist_id|  medal_id|\n",
      "+--------------------+---------------+------------------+--------------------+--------------------+----------+\n",
      "|10e1688e-f0ad-4ab...|    Sky Carries|                10|c7edbf0f-f206-11e...|f72e0ef0-7c4a-430...|3261908037|\n",
      "|10e1688e-f0ad-4ab...|    Sky Carries|                10|c7edbf0f-f206-11e...|f72e0ef0-7c4a-430...|2838259753|\n",
      "|10e1688e-f0ad-4ab...|    Sky Carries|                10|c7edbf0f-f206-11e...|f72e0ef0-7c4a-430...|3491849182|\n",
      "|10e1688e-f0ad-4ab...|    Sky Carries|                10|c7edbf0f-f206-11e...|f72e0ef0-7c4a-430...|2430242797|\n",
      "|10e1688e-f0ad-4ab...|    Sky Carries|                10|c7edbf0f-f206-11e...|f72e0ef0-7c4a-430...| 824733727|\n",
      "+--------------------+---------------+------------------+--------------------+--------------------+----------+\n",
      "only showing top 5 rows\n"
     ]
    },
    {
     "name": "stderr",
     "output_type": "stream",
     "text": [
      "                                                                                \r"
     ]
    }
   ],
   "source": [
    "# join match, match_details and, medals_matches_players buckets\n",
    "\n",
    "match_player_table = spark.sql(\"\"\"SELECT  \n",
    "    m.match_id,\n",
    "    md.player_gamertag,\n",
    "    md.player_total_kills,\n",
    "    m.mapid,\n",
    "    m.playlist_id,\n",
    "    mmp.medal_id\n",
    "FROM bucketed_matches m\n",
    "LEFT JOIN bucketed_match_details md \n",
    "       ON m.match_id = md.match_id\n",
    "LEFT JOIN bucketed_medals_matches_players mmp \n",
    "       ON md.match_id = mmp.match_id\"\"\")\n",
    "    \n",
    "match_player_table.show(5)"
   ]
  },
  {
   "cell_type": "code",
   "execution_count": 16,
   "id": "fd093f51",
   "metadata": {},
   "outputs": [
    {
     "name": "stdout",
     "output_type": "stream",
     "text": [
      "== Physical Plan ==\n",
      "AdaptiveSparkPlan isFinalPlan=false\n",
      "+- Project [match_id#521, player_gamertag#486, player_total_kills#504, mapid#522, playlist_id#524, medal_id#533L]\n",
      "   +- SortMergeJoin [match_id#485], [match_id#531], LeftOuter\n",
      "      :- Sort [match_id#485 ASC NULLS FIRST], false, 0\n",
      "      :  +- Exchange hashpartitioning(match_id#485, 16), ENSURE_REQUIREMENTS, [plan_id=709]\n",
      "      :     +- SortMergeJoin [match_id#521], [match_id#485], LeftOuter\n",
      "      :        :- Sort [match_id#521 ASC NULLS FIRST], false, 0\n",
      "      :        :  +- FileScan parquet spark_catalog.gaming_analysis.bucketed_matches[match_id#521,mapid#522,playlist_id#524] Batched: true, Bucketed: true, DataFilters: [], Format: Parquet, Location: InMemoryFileIndex(1 paths)[file:/home/dataspiro/spark-warehouse/gaming_analysis.db/bucketed_matches], PartitionFilters: [], PushedFilters: [], ReadSchema: struct<match_id:string,mapid:string,playlist_id:string>, SelectedBucketsCount: 16 out of 16\n",
      "      :        +- Sort [match_id#485 ASC NULLS FIRST], false, 0\n",
      "      :           +- Filter isnotnull(match_id#485)\n",
      "      :              +- FileScan parquet spark_catalog.gaming_analysis.bucketed_match_details[match_id#485,player_gamertag#486,player_total_kills#504] Batched: true, Bucketed: true, DataFilters: [isnotnull(match_id#485)], Format: Parquet, Location: InMemoryFileIndex(1 paths)[file:/home/dataspiro/spark-warehouse/gaming_analysis.db/bucketed_match..., PartitionFilters: [], PushedFilters: [IsNotNull(match_id)], ReadSchema: struct<match_id:string,player_gamertag:string,player_total_kills:int>, SelectedBucketsCount: 16 out of 16\n",
      "      +- Sort [match_id#531 ASC NULLS FIRST], false, 0\n",
      "         +- Filter isnotnull(match_id#531)\n",
      "            +- FileScan parquet spark_catalog.gaming_analysis.bucketed_medals_matches_players[match_id#531,medal_id#533L] Batched: true, Bucketed: true, DataFilters: [isnotnull(match_id#531)], Format: Parquet, Location: InMemoryFileIndex(1 paths)[file:/home/dataspiro/spark-warehouse/gaming_analysis.db/bucketed_medal..., PartitionFilters: [], PushedFilters: [IsNotNull(match_id)], ReadSchema: struct<match_id:string,medal_id:bigint>, SelectedBucketsCount: 16 out of 16\n",
      "\n",
      "\n"
     ]
    }
   ],
   "source": [
    "# Check if your join is using bucket join\n",
    "match_player_table.explain()\n",
    "# Look for \"BucketedTableScan\" or \"BucketJoin\" in the plan"
   ]
  },
  {
   "cell_type": "code",
   "execution_count": 17,
   "id": "97de37e0",
   "metadata": {},
   "outputs": [
    {
     "name": "stderr",
     "output_type": "stream",
     "text": [
      "[Stage 33:==============>                                           (1 + 3) / 4]\r"
     ]
    },
    {
     "name": "stdout",
     "output_type": "stream",
     "text": [
      "+---------------+------------+---------------+\n",
      "|      player_id|games_played|avg_total_kills|\n",
      "+---------------+------------+---------------+\n",
      "|   gimpinator14|           1|          109.0|\n",
      "|  I Johann117 I|           1|           96.0|\n",
      "|BudgetLegendary|           1|           83.0|\n",
      "|      GsFurreal|           1|           75.0|\n",
      "|   TameablePoet|           2|          74.22|\n",
      "|   Sexy is Back|           1|           73.0|\n",
      "|   killerguy789|           1|           68.0|\n",
      "|THC GUILTYSPARK|           1|           67.0|\n",
      "|PrimePromethean|           1|           66.0|\n",
      "|    HisLattice1|           1|           66.0|\n",
      "+---------------+------------+---------------+\n",
      "\n"
     ]
    },
    {
     "name": "stderr",
     "output_type": "stream",
     "text": [
      "                                                                                \r"
     ]
    }
   ],
   "source": [
    "# question 1 - Average kills per player across all matches\n",
    "\n",
    "\n",
    "match_player_table.createOrReplaceTempView(\"match_player_table\") # Register the DataFrame as a temporary view for SQL queries\n",
    "\n",
    "ave_kill_per_player = spark.sql(\"\"\"\n",
    "    SELECT \n",
    "        player_gamertag AS player_id,\n",
    "        COUNT(DISTINCT match_id) AS games_played,\n",
    "        ROUND(AVG(player_total_kills), 2) AS avg_total_kills\n",
    "    FROM match_player_table\n",
    "    GROUP BY player_gamertag\n",
    "    ORDER BY avg_total_kills DESC\n",
    "    LIMIT 10\n",
    "\"\"\")\n",
    "ave_kill_per_player.show()"
   ]
  },
  {
   "cell_type": "code",
   "execution_count": 18,
   "id": "884c28eb",
   "metadata": {},
   "outputs": [
    {
     "name": "stderr",
     "output_type": "stream",
     "text": [
      "[Stage 40:==========================================>             (12 + 4) / 16]\r"
     ]
    },
    {
     "name": "stdout",
     "output_type": "stream",
     "text": [
      "+--------------------+-----------+\n",
      "|         playlist_id|no_of_plays|\n",
      "+--------------------+-----------+\n",
      "|f72e0ef0-7c4a-430...|    1567327|\n",
      "|780cc101-005c-4fc...|    1116197|\n",
      "|0bcf2be1-3168-4e4...|    1015907|\n",
      "|c98949ae-60a8-43d...|     825180|\n",
      "|2323b76a-db98-4e0...|     692432|\n",
      "|892189e9-d712-4bd...|     667953|\n",
      "|f27a65eb-2d11-496...|     167517|\n",
      "|355dc154-9809-4ed...|     140068|\n",
      "|d0766624-dbd7-453...|     138500|\n",
      "|bc0f8ad6-31e6-4a1...|     111186|\n",
      "+--------------------+-----------+\n",
      "\n"
     ]
    },
    {
     "name": "stderr",
     "output_type": "stream",
     "text": [
      "                                                                                \r"
     ]
    }
   ],
   "source": [
    "# question 2a  - most played playlist\n",
    "\n",
    "\n",
    "#match_player_table.createOrReplaceTempView(\"match_player_table\") # Register the DataFrame as a temporary view for SQL queries\n",
    "\n",
    "most_play_playlist = spark.sql(\"\"\"\n",
    "    SELECT \n",
    "        playlist_id,\n",
    "        COUNT(playlist_id) AS no_of_plays\n",
    "    FROM match_player_table\n",
    "    GROUP BY playlist_id\n",
    "    ORDER BY 2 DESC\n",
    "    LIMIT 10\n",
    "\"\"\")\n",
    "most_play_playlist.show()"
   ]
  },
  {
   "cell_type": "code",
   "execution_count": 19,
   "id": "2398a412",
   "metadata": {},
   "outputs": [
    {
     "name": "stderr",
     "output_type": "stream",
     "text": [
      "[Stage 46:===========================================>              (3 + 1) / 4]\r"
     ]
    },
    {
     "name": "stdout",
     "output_type": "stream",
     "text": [
      "+--------------------+-------------+--------------+\n",
      "|         playlist_id|total_matches|unique_players|\n",
      "+--------------------+-------------+--------------+\n",
      "|f72e0ef0-7c4a-430...|         9350|         22057|\n",
      "|2323b76a-db98-4e0...|         3244|          9919|\n",
      "|892189e9-d712-4bd...|         2159|          9779|\n",
      "|c98949ae-60a8-43d...|         1984|          8887|\n",
      "|b50c4dc2-6c86-4d7...|         1462|             0|\n",
      "|0e39ead4-383b-445...|          909|             0|\n",
      "|f27a65eb-2d11-496...|          701|          3476|\n",
      "|d0766624-dbd7-453...|          643|          2537|\n",
      "|0bcf2be1-3168-4e4...|          564|          6868|\n",
      "|780cc101-005c-4fc...|          527|          6101|\n",
      "+--------------------+-------------+--------------+\n",
      "\n"
     ]
    },
    {
     "name": "stderr",
     "output_type": "stream",
     "text": [
      "                                                                                \r"
     ]
    }
   ],
   "source": [
    "# question 2b - most played playlist by players and matches\n",
    "\n",
    "most_play_playlist = spark.sql(\"\"\"\n",
    "    SELECT \n",
    "        playlist_id,\n",
    "        COUNT(DISTINCT match_id) as total_matches,\n",
    "        COUNT(DISTINCT player_gamertag) as unique_players\n",
    "    FROM match_player_table\n",
    "    GROUP BY playlist_id\n",
    "    ORDER BY 2 DESC\n",
    "    LIMIT 10\n",
    "\"\"\")\n",
    "most_play_playlist.show()"
   ]
  },
  {
   "cell_type": "code",
   "execution_count": 20,
   "id": "4ac5a466",
   "metadata": {},
   "outputs": [
    {
     "name": "stderr",
     "output_type": "stream",
     "text": [
      "[Stage 52:======================================>                 (11 + 4) / 16]\r"
     ]
    },
    {
     "name": "stdout",
     "output_type": "stream",
     "text": [
      "+--------------------+-----------+\n",
      "|               mapid|no_of_plays|\n",
      "+--------------------+-----------+\n",
      "|c74c9d0f-f206-11e...|    1446047|\n",
      "|c7edbf0f-f206-11e...|    1436691|\n",
      "|c7805740-f206-11e...|     953559|\n",
      "|cdb934b0-f206-11e...|     396464|\n",
      "|cb914b9e-f206-11e...|     309154|\n",
      "|ce1dc2de-f206-11e...|     299858|\n",
      "|cebd854f-f206-11e...|     299029|\n",
      "|caacb800-f206-11e...|     291609|\n",
      "|cd844200-f206-11e...|     261249|\n",
      "|cc040aa1-f206-11e...|     257047|\n",
      "+--------------------+-----------+\n",
      "\n"
     ]
    },
    {
     "name": "stderr",
     "output_type": "stream",
     "text": [
      "                                                                                \r"
     ]
    }
   ],
   "source": [
    "# question 3a most played on map\n",
    "\n",
    "most_played_map= spark.sql ('''SELECT \n",
    "        mapid,\n",
    "        COUNT(mapid) AS no_of_plays\n",
    "    FROM match_player_table\n",
    "    GROUP BY mapid\n",
    "    ORDER BY 2 DESC\n",
    "    LIMIT 10\n",
    "                            ''')\n",
    "\n",
    "most_played_map.show()"
   ]
  },
  {
   "cell_type": "code",
   "execution_count": 21,
   "id": "83d325e0",
   "metadata": {},
   "outputs": [
    {
     "name": "stderr",
     "output_type": "stream",
     "text": [
      "[Stage 56:=================================================>      (14 + 2) / 16]\r"
     ]
    },
    {
     "name": "stdout",
     "output_type": "stream",
     "text": [
      "+--------------------+-------------+--------------+\n",
      "|               mapid|total_matches|unique_players|\n",
      "+--------------------+-------------+--------------+\n",
      "|c7edbf0f-f206-11e...|         8587|         21356|\n",
      "|cdb934b0-f206-11e...|         1489|          6996|\n",
      "|c74c9d0f-f206-11e...|         1461|         12403|\n",
      "|cb914b9e-f206-11e...|         1088|          5550|\n",
      "|c7805740-f206-11e...|         1052|          7949|\n",
      "|ce1dc2de-f206-11e...|         1036|          5209|\n",
      "|caacb800-f206-11e...|          996|          5293|\n",
      "|cdee4e70-f206-11e...|          982|          4966|\n",
      "|cebd854f-f206-11e...|          971|          5331|\n",
      "|cd844200-f206-11e...|          915|          4780|\n",
      "+--------------------+-------------+--------------+\n",
      "\n"
     ]
    },
    {
     "name": "stderr",
     "output_type": "stream",
     "text": [
      "                                                                                \r"
     ]
    }
   ],
   "source": [
    "# question 3b most played on map by players and matches\n",
    "\n",
    "most_played_map= spark.sql ('''SELECT \n",
    "        mapid,\n",
    "        COUNT(DISTINCT match_id) as total_matches,\n",
    "        COUNT(DISTINCT player_gamertag) as unique_players\n",
    "    FROM match_player_table\n",
    "    GROUP BY mapid\n",
    "    ORDER BY 2 DESC\n",
    "    LIMIT 10\n",
    "                            ''')\n",
    "\n",
    "most_played_map.show()"
   ]
  },
  {
   "cell_type": "code",
   "execution_count": 22,
   "id": "b1409fae",
   "metadata": {},
   "outputs": [
    {
     "name": "stderr",
     "output_type": "stream",
     "text": [
      "[Stage 69:==============================================>           (4 + 1) / 5]\r"
     ]
    },
    {
     "name": "stdout",
     "output_type": "stream",
     "text": [
      "+--------------------+-------------------+\n",
      "|              map_id|killing_spree_count|\n",
      "+--------------------+-------------------+\n",
      "|c7edbf0f-f206-11e...|               1212|\n",
      "|c7edbf0f-f206-11e...|               1187|\n",
      "|c7edbf0f-f206-11e...|                769|\n",
      "|c7edbf0f-f206-11e...|                652|\n",
      "|c74c9d0f-f206-11e...|                515|\n",
      "|c7edbf0f-f206-11e...|                496|\n",
      "|c7805740-f206-11e...|                482|\n",
      "|c7edbf0f-f206-11e...|                474|\n",
      "|cdb934b0-f206-11e...|                422|\n",
      "|c7edbf0f-f206-11e...|                409|\n",
      "+--------------------+-------------------+\n",
      "\n"
     ]
    },
    {
     "name": "stderr",
     "output_type": "stream",
     "text": [
      "                                                                                \r"
     ]
    }
   ],
   "source": [
    "# Question 4 - Top 10 killing spree medals by map\n",
    "\n",
    "killing_spree = spark.sql (''' SELECT \n",
    "        mpt.mapid AS map_id, \n",
    "        COUNT(*) AS killing_spree_count\n",
    "        FROM match_player_table mpt\n",
    "        JOIN broadcast_medals bcm\n",
    "        ON mpt.medal_id = bcm.medal_id\n",
    "        WHERE bcm.name = 'Killing Spree'\n",
    "        GROUP BY mpt.mapid, mpt.player_gamertag \n",
    "        ORDER BY killing_spree_count DESC \n",
    "        LIMIT 10''')\n",
    "\n",
    "killing_spree.show()"
   ]
  },
  {
   "cell_type": "code",
   "execution_count": 23,
   "id": "5d43b774",
   "metadata": {},
   "outputs": [
    {
     "name": "stderr",
     "output_type": "stream",
     "text": [
      "[Stage 77:====================================================>   (15 + 1) / 16]\r"
     ]
    },
    {
     "name": "stdout",
     "output_type": "stream",
     "text": [
      "Output path: /tmp/sorted_by_mapid\n",
      "File size: 6.31 MB\n"
     ]
    },
    {
     "name": "stderr",
     "output_type": "stream",
     "text": [
      "                                                                                \r"
     ]
    }
   ],
   "source": [
    "# sort by mapid\n",
    "\n",
    "def get_directory_size(path):\n",
    "    total = 0\n",
    "    for root, _, files in os.walk(path):\n",
    "        for f in files:\n",
    "            total += os.path.getsize(os.path.join(root, f))\n",
    "    return builtins.round(total / (1024*1024), 2)  # MB\n",
    "\n",
    "# Sort within partitions by mapid\n",
    "sorted_df = match_player_table.sortWithinPartitions(\"mapid\")\n",
    "\n",
    "# Write to disk\n",
    "output_path = \"/tmp/sorted_by_mapid\"\n",
    "sorted_df.write.mode(\"overwrite\").parquet(output_path)\n",
    "\n",
    "# Print results\n",
    "file_size = get_directory_size(output_path)\n",
    "print(f\"Output path: {output_path}\")\n",
    "print(f\"File size: {file_size} MB\")\n"
   ]
  },
  {
   "cell_type": "code",
   "execution_count": 24,
   "id": "83fc8ff8",
   "metadata": {},
   "outputs": [
    {
     "name": "stderr",
     "output_type": "stream",
     "text": [
      "                                                                                \r"
     ]
    },
    {
     "name": "stdout",
     "output_type": "stream",
     "text": [
      "Output path: /tmp/sorted_by_playlist\n",
      "File size: 5.98 MB\n"
     ]
    }
   ],
   "source": [
    "# sort by playlist_id\n",
    "\n",
    "def get_directory_size(path):\n",
    "    total = 0\n",
    "    for root, _, files in os.walk(path):\n",
    "        for f in files:\n",
    "            total += os.path.getsize(os.path.join(root, f))\n",
    "    return builtins.round(total / (1024*1024), 2)  # MB\n",
    "\n",
    "\n",
    "sorted_df = match_player_table.sortWithinPartitions(\"playlist_id\")\n",
    "\n",
    "\n",
    "output_path = \"/tmp/sorted_by_playlist\"\n",
    "sorted_df.write.mode(\"overwrite\").parquet(output_path)\n",
    "\n",
    "\n",
    "file_size = get_directory_size(output_path)\n",
    "print(f\"Output path: {output_path}\")\n",
    "print(f\"File size: {file_size} MB\")\n"
   ]
  },
  {
   "cell_type": "code",
   "execution_count": 25,
   "id": "c51db6ed",
   "metadata": {},
   "outputs": [
    {
     "name": "stderr",
     "output_type": "stream",
     "text": [
      "[Stage 83:====================================================>   (15 + 1) / 16]\r"
     ]
    },
    {
     "name": "stdout",
     "output_type": "stream",
     "text": [
      "Output path: /tmp/sorted_by_player_gamertag\n",
      "File size: 10.41 MB\n"
     ]
    },
    {
     "name": "stderr",
     "output_type": "stream",
     "text": [
      "                                                                                \r"
     ]
    }
   ],
   "source": [
    "# sort by playlist_id\n",
    "\n",
    "def get_directory_size(path):\n",
    "    total = 0\n",
    "    for root, _, files in os.walk(path):\n",
    "        for f in files:\n",
    "            total += os.path.getsize(os.path.join(root, f))\n",
    "    return builtins.round(total / (1024*1024), 2)  # MB\n",
    "\n",
    "\n",
    "sorted_df = match_player_table.sortWithinPartitions(\"player_gamertag\")\n",
    "\n",
    "output_path = \"/tmp/sorted_by_player_gamertag\"\n",
    "sorted_df.write.mode(\"overwrite\").parquet(output_path)\n",
    "\n",
    "\n",
    "file_size = get_directory_size(output_path)\n",
    "print(f\"Output path: {output_path}\")\n",
    "print(f\"File size: {file_size} MB\")\n"
   ]
  },
  {
   "cell_type": "code",
   "execution_count": 26,
   "id": "5366f21c",
   "metadata": {},
   "outputs": [
    {
     "name": "stderr",
     "output_type": "stream",
     "text": [
      "[Stage 86:=================================================>      (14 + 2) / 16]\r"
     ]
    },
    {
     "name": "stdout",
     "output_type": "stream",
     "text": [
      "Output path: /tmp/sorted_by_player_match_id\n",
      "File size: 6.43 MB\n"
     ]
    },
    {
     "name": "stderr",
     "output_type": "stream",
     "text": [
      "                                                                                \r"
     ]
    }
   ],
   "source": [
    "# sort by match_id\n",
    "\n",
    "def get_directory_size(path):\n",
    "    total = 0\n",
    "    for root, _, files in os.walk(path):\n",
    "        for f in files:\n",
    "            total += os.path.getsize(os.path.join(root, f))\n",
    "    return builtins.round(total / (1024*1024), 2)  \n",
    "\n",
    "sorted_df = match_player_table.sortWithinPartitions(\"match_id\")\n",
    "\n",
    "output_path = \"/tmp/sorted_by_player_match_id\"\n",
    "sorted_df.write.mode(\"overwrite\").parquet(output_path)\n",
    "\n",
    "file_size = get_directory_size(output_path)\n",
    "print(f\"Output path: {output_path}\")\n",
    "print(f\"File size: {file_size} MB\")\n"
   ]
  },
  {
   "cell_type": "code",
   "execution_count": 27,
   "id": "73de8b47",
   "metadata": {},
   "outputs": [
    {
     "name": "stderr",
     "output_type": "stream",
     "text": [
      "[Stage 89:====================================================>   (15 + 1) / 16]\r"
     ]
    },
    {
     "name": "stdout",
     "output_type": "stream",
     "text": [
      "Output path: /tmp/sorted_by_medal_id\n",
      "File size: 18.73 MB\n"
     ]
    },
    {
     "name": "stderr",
     "output_type": "stream",
     "text": [
      "                                                                                \r"
     ]
    }
   ],
   "source": [
    "# sort by medal_id\n",
    "\n",
    "def get_directory_size(path):\n",
    "    total = 0\n",
    "    for root, _, files in os.walk(path):\n",
    "        for f in files:\n",
    "            total += os.path.getsize(os.path.join(root, f))\n",
    "    return builtins.round(total / (1024*1024), 2)  # MB\n",
    "\n",
    "# Sort within partitions by mapid and playlist_id\n",
    "sorted_df = match_player_table.sortWithinPartitions(\"medal_id\")\n",
    "\n",
    "# Write to disk\n",
    "output_path = \"/tmp/sorted_by_medal_id\"\n",
    "sorted_df.write.mode(\"overwrite\").parquet(output_path)\n",
    "\n",
    "# Print results\n",
    "file_size = get_directory_size(output_path)\n",
    "print(f\"Output path: {output_path}\")\n",
    "print(f\"File size: {file_size} MB\")\n"
   ]
  }
 ],
 "metadata": {
  "kernelspec": {
   "display_name": "boot",
   "language": "python",
   "name": "python3"
  },
  "language_info": {
   "codemirror_mode": {
    "name": "ipython",
    "version": 3
   },
   "file_extension": ".py",
   "mimetype": "text/x-python",
   "name": "python",
   "nbconvert_exporter": "python",
   "pygments_lexer": "ipython3",
   "version": "3.9.23"
  }
 },
 "nbformat": 4,
 "nbformat_minor": 5
}

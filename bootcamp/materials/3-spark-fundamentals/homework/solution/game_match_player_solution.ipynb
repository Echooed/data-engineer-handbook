{
 "cells": [
  {
   "cell_type": "code",
   "execution_count": 1,
   "id": "48ac146e",
   "metadata": {},
   "outputs": [],
   "source": [
    "from pyspark.sql import SparkSession\n",
    "from pyspark.sql.functions import *\n",
    "from pyspark.sql.types import *\n",
    "import os"
   ]
  },
  {
   "cell_type": "code",
   "execution_count": 2,
   "id": "2e3ff86a",
   "metadata": {},
   "outputs": [],
   "source": [
    "def create_spark_session():\n",
    "    \"\"\"Create and configure Spark session with optimizations\"\"\"\n",
    "    spark = SparkSession.builder \\\n",
    "        .appName(\"Spark Fundamentals Week Analysis\") \\\n",
    "        .config(\"spark.sql.adaptive.enabled\", \"true\") \\\n",
    "        .config(\"spark.sql.adaptive.coalescePartitions.enabled\", \"true\") \\\n",
    "        .getOrCreate()\n",
    "    \n",
    "    # Disable automatic broadcast join threshold as required\n",
    "    spark.conf.set(\"spark.sql.autoBroadcastJoinThreshold\", \"-1\")\n",
    "    \n",
    "    return spark"
   ]
  },
  {
   "cell_type": "code",
   "execution_count": 3,
   "id": "be8c73f9",
   "metadata": {},
   "outputs": [
    {
     "name": "stderr",
     "output_type": "stream",
     "text": [
      "WARNING: Using incubator modules: jdk.incubator.vector\n",
      "Using Spark's default log4j profile: org/apache/spark/log4j2-defaults.properties\n",
      "25/08/28 10:54:51 WARN Utils: Your hostname, dataspirolinux, resolves to a loopback address: 127.0.1.1; using 192.168.1.139 instead (on interface wlp1s0)\n",
      "25/08/28 10:54:51 WARN Utils: Set SPARK_LOCAL_IP if you need to bind to another address\n",
      "Using Spark's default log4j profile: org/apache/spark/log4j2-defaults.properties\n",
      "Setting default log level to \"WARN\".\n",
      "To adjust logging level use sc.setLogLevel(newLevel). For SparkR, use setLogLevel(newLevel).\n",
      "25/08/28 10:54:54 WARN NativeCodeLoader: Unable to load native-hadoop library for your platform... using builtin-java classes where applicable\n",
      "25/08/28 10:54:56 WARN Utils: Service 'SparkUI' could not bind on port 4040. Attempting port 4041.\n"
     ]
    }
   ],
   "source": [
    "# 1. Initialize Spark\n",
    "spark = create_spark_session()\n",
    "\n",
    "# 2. Define Postgres connection info\n",
    "url = \"jdbc:postgresql://localhost:5434/postgres\"\n",
    "properties = {\n",
    "    \"user\": \"postgres\",\n",
    "    \"password\": \"postgres\",\n",
    "    \"driver\": \"org.postgresql.Driver\"\n",
    "}"
   ]
  },
  {
   "cell_type": "markdown",
   "id": "80b8c30e",
   "metadata": {},
   "source": [
    "match_details\n",
    "\n",
    "a row for every players performance in a match\n",
    "matches\n",
    "\n",
    "a row for every match\n",
    "medals_matches_players\n",
    "\n",
    "a row for every medal type a player gets in a match\n",
    "medals\n",
    "\n",
    "a row for every medal type\n",
    "Your goal is to make the following things happen:\n",
    "\n",
    "Build a Spark job that;\n",
    "\n",
    "Disabled automatic broadcast join with spark.conf.set(\"spark.sql.autoBroadcastJoinThreshold\", \"-1\")\n",
    "\n",
    "Explicitly broadcast JOINs medals and maps\n",
    "\n",
    "Bucket join match_details, matches, and medal_matches_players on match_id with 16 buckets\n",
    "\n",
    "Aggregate the joined data frame to figure out questions like:\n",
    "Which player averages the most kills per game?\n",
    "\n",
    "Which playlist gets played the most?\n",
    "\n",
    "Which map gets played the most?\n",
    "\n",
    "Which map do players get the most Killing Spree medals on?\n",
    "\n",
    "With the aggregated data set\n",
    "\n",
    "Try different .sortWithinPartitions to see which has the smallest data size (hint: playlists and maps are both very low cardinality)\n",
    "\n",
    "Save these as .py files and submit them this way!\n",
    "\n"
   ]
  },
  {
   "cell_type": "code",
   "execution_count": 9,
   "id": "095eeae4",
   "metadata": {},
   "outputs": [
    {
     "name": "stderr",
     "output_type": "stream",
     "text": [
      "                                                                                \r"
     ]
    }
   ],
   "source": [
    "# Create database\n",
    "spark.sql(\"CREATE DATABASE IF NOT EXISTS gaming_analysis\")\n",
    "spark.sql(\"USE gaming_analysis\")\n",
    "\n",
    "\n",
    "# load csv into dataframe\n",
    "\n",
    "df_maps = spark.read.csv(\n",
    "    \"/home/dataspiro/data-engineer-handbook/bootcamp/materials/3-spark-fundamentals/data//maps.csv\",\n",
    "    header=True,\n",
    "    inferSchema=True\n",
    ")\n",
    "\n",
    "df_matches = spark.read.csv(\n",
    "    \"/home/dataspiro/data-engineer-handbook/bootcamp/materials/3-spark-fundamentals/data//matches.csv\",\n",
    "    header=True,\n",
    "    inferSchema=True\n",
    ")\n",
    "df_medals = spark.read.csv(\n",
    "    \"/home/dataspiro/data-engineer-handbook/bootcamp/materials/3-spark-fundamentals/data//medals.csv\",\n",
    "    header=True,\n",
    "    inferSchema=True\n",
    ")\n",
    "df_match_details = spark.read.csv(\n",
    "    \"/home/dataspiro/data-engineer-handbook/bootcamp/materials/3-spark-fundamentals/data//match_details.csv\",\n",
    "    header=True,\n",
    "    inferSchema=True\n",
    ")\n",
    "df_medals_matches_players = spark.read.csv(\n",
    "    \"/home/dataspiro/data-engineer-handbook/bootcamp/materials/3-spark-fundamentals/data//medals_matches_players.csv\",\n",
    "    header=True,\n",
    "    inferSchema=True\n",
    ")"
   ]
  },
  {
   "cell_type": "code",
   "execution_count": 5,
   "id": "076b9e98",
   "metadata": {},
   "outputs": [
    {
     "name": "stdout",
     "output_type": "stream",
     "text": [
      "+--------------------+-------------------+--------------------+\n",
      "|               mapid|               name|         description|\n",
      "+--------------------+-------------------+--------------------+\n",
      "|c93d708f-f206-11e...|              Urban|Andesia was the c...|\n",
      "|cb251c51-f206-11e...|     Raid on Apex 7|This unbroken rin...|\n",
      "|c854e54f-f206-11e...|March on Stormbreak|                NULL|\n",
      "|c8d69870-f206-11e...| Escape from A.R.C.|Scientists flocke...|\n",
      "|73ed1fd0-45e5-4bb...|             Osiris|                NULL|\n",
      "+--------------------+-------------------+--------------------+\n",
      "only showing top 5 rows\n",
      "+--------------------+--------------------+------------+--------------------+--------------------+-------------+-------------------+--------------+---------+--------------------+\n",
      "|            match_id|               mapid|is_team_game|         playlist_id|     game_variant_id|is_match_over|    completion_date|match_duration|game_mode|      map_variant_id|\n",
      "+--------------------+--------------------+------------+--------------------+--------------------+-------------+-------------------+--------------+---------+--------------------+\n",
      "|11de1a94-8d07-416...|c7edbf0f-f206-11e...|        true|f72e0ef0-7c4a-430...|1e473914-46e4-408...|         true|2016-02-22 00:00:00|          NULL|     NULL|                NULL|\n",
      "|d3643e71-3e51-43e...|cb914b9e-f206-11e...|       false|d0766624-dbd7-453...|257a305e-4dd3-41f...|         true|2016-02-14 00:00:00|          NULL|     NULL|                NULL|\n",
      "|d78d2aae-36e4-48a...|c7edbf0f-f206-11e...|        true|f72e0ef0-7c4a-430...|1e473914-46e4-408...|         true|2016-03-24 00:00:00|          NULL|     NULL|55e5ee2e-88df-465...|\n",
      "|b440069e-ec5f-4f5...|c7edbf0f-f206-11e...|        true|f72e0ef0-7c4a-430...|1e473914-46e4-408...|         true|2015-12-23 00:00:00|          NULL|     NULL|ec3eef73-13e3-4d4...|\n",
      "|1dd475fc-ee6b-4e1...|c93d708f-f206-11e...|        true|0e39ead4-383b-445...|42f97cca-2cb4-497...|         true|2016-04-07 00:00:00|          NULL|     NULL|                NULL|\n",
      "+--------------------+--------------------+------------+--------------------+--------------------+-------------+-------------------+--------------+---------+--------------------+\n",
      "only showing top 5 rows\n",
      "+----------+--------------------+-----------+----------+------------------+-------------------+------------+-------------+--------------+--------------------+--------------+----------+\n",
      "|  medal_id|          sprite_uri|sprite_left|sprite_top|sprite_sheet_width|sprite_sheet_height|sprite_width|sprite_height|classification|         description|          name|difficulty|\n",
      "+----------+--------------------+-----------+----------+------------------+-------------------+------------+-------------+--------------+--------------------+--------------+----------+\n",
      "|2315448068|                NULL|       NULL|      NULL|              NULL|               NULL|        NULL|         NULL|          NULL|                NULL|          NULL|      NULL|\n",
      "|3565441934|                NULL|       NULL|      NULL|              NULL|               NULL|        NULL|         NULL|          NULL|                NULL|          NULL|      NULL|\n",
      "|4162659350|https://content.h...|        750|       750|                74|                 74|        1125|          899|      Breakout|Kill the last ene...| Buzzer Beater|        45|\n",
      "|1573153198|https://content.h...|          0|       300|                74|                 74|        1125|          899|      Breakout|Survive a one-on-...|    Vanquisher|        30|\n",
      "| 298813630|https://content.h...|          0|       825|                74|                 74|        1125|          899|         Style|Kill an enemy wit...|Spartan Charge|       135|\n",
      "+----------+--------------------+-----------+----------+------------------+-------------------+------------+-------------+--------------+--------------------+--------------+----------+\n",
      "only showing top 5 rows\n"
     ]
    },
    {
     "name": "stderr",
     "output_type": "stream",
     "text": [
      "25/08/28 10:55:24 WARN SparkStringUtils: Truncated the string representation of a plan since it was too large. This behavior can be adjusted by setting 'spark.sql.debug.maxToStringFields'.\n"
     ]
    },
    {
     "name": "stdout",
     "output_type": "stream",
     "text": [
      "+--------------------+---------------+---------------------+------------+-----------------+--------+-----------------+------------------------+------------+---------------------------------+-----------------+----------------+-----------------------+-----------+--------------------------------+----------------+-------------------+---------------+-------------------+------------------+----------------------+--------------------------+-------------------------+------------------------+-------------------------+---------------------------+-------------------------------+--------------------------------+---------------------------+--------------------------------+-------------------------------+-------------------+--------------------+--------------------------+-------+-------+\n",
      "|            match_id|player_gamertag|previous_spartan_rank|spartan_rank|previous_total_xp|total_xp|previous_csr_tier|previous_csr_designation|previous_csr|previous_csr_percent_to_next_tier|previous_csr_rank|current_csr_tier|current_csr_designation|current_csr|current_csr_percent_to_next_tier|current_csr_rank|player_rank_on_team|player_finished|player_average_life|player_total_kills|player_total_headshots|player_total_weapon_damage|player_total_shots_landed|player_total_melee_kills|player_total_melee_damage|player_total_assassinations|player_total_ground_pound_kills|player_total_shoulder_bash_kills|player_total_grenade_damage|player_total_power_weapon_damage|player_total_power_weapon_grabs|player_total_deaths|player_total_assists|player_total_grenade_kills|did_win|team_id|\n",
      "+--------------------+---------------+---------------------+------------+-----------------+--------+-----------------+------------------------+------------+---------------------------------+-----------------+----------------+-----------------------+-----------+--------------------------------+----------------+-------------------+---------------+-------------------+------------------+----------------------+--------------------------+-------------------------+------------------------+-------------------------+---------------------------+-------------------------------+--------------------------------+---------------------------+--------------------------------+-------------------------------+-------------------+--------------------+--------------------------+-------+-------+\n",
      "|71d79b23-4143-435...|      taterbase|                    5|           5|            12537|   13383|                1|                       3|           0|                               98|             NULL|               2|                      3|          0|                              26|            NULL|                  4|          false|        PT14.81149S|                 6|                     4|                     255.0|                       28|                       0|                      0.0|                          0|                              0|                               0|                        0.0|                             0.0|                              0|                 13|                   1|                         0|      1|      1|\n",
      "|71d79b23-4143-435...| SuPeRSaYaInG0D|                   18|          18|           131943|  132557|                2|                       3|           0|                                2|             NULL|               1|                      3|          0|                              76|            NULL|                  7|          false|      PT11.2990845S|                 7|                     3|        350.58792304992676|                       49|                       1|                     45.0|                          0|                              0|                               0|                        0.0|                             0.0|                              0|                 18|                   2|                         0|      0|      0|\n",
      "|71d79b23-4143-435...|       EcZachly|                   21|          21|           168811|  169762|                2|                       5|           0|                               94|             NULL|               3|                      5|          0|                              24|            NULL|                  3|          false|      PT19.1357063S|                12|                    12|                     625.0|                       43|                       0|                      0.0|                          0|                              0|                               0|                        0.0|                             0.0|                              0|                 10|                   4|                         0|      1|      1|\n",
      "|71d79b23-4143-435...|    johnsnake04|                   14|          14|            64073|   64639|             NULL|                    NULL|        NULL|                             NULL|             NULL|            NULL|                   NULL|       NULL|                            NULL|            NULL|                  6|          false|      PT21.1521599S|                13|                    13|                     605.0|                       24|                       0|                      0.0|                          0|                              0|                               0|                        0.0|                             0.0|                              0|                  9|                   2|                         0|      0|      0|\n",
      "|71d79b23-4143-435...| Super Mac Bros|                   26|          26|           243425|  244430|                1|                       5|           0|                               86|             NULL|               2|                      5|          0|                               8|            NULL|                  2|          false|      PT12.8373793S|                13|                    12|                     595.0|                       32|                       1|       20.004501342773438|                          0|                              0|                               0|                        0.0|                             0.0|                              0|                 15|                   2|                         0|      1|      1|\n",
      "+--------------------+---------------+---------------------+------------+-----------------+--------+-----------------+------------------------+------------+---------------------------------+-----------------+----------------+-----------------------+-----------+--------------------------------+----------------+-------------------+---------------+-------------------+------------------+----------------------+--------------------------+-------------------------+------------------------+-------------------------+---------------------------+-------------------------------+--------------------------------+---------------------------+--------------------------------+-------------------------------+-------------------+--------------------+--------------------------+-------+-------+\n",
      "only showing top 5 rows\n",
      "+--------------------+---------------+----------+-----+\n",
      "|            match_id|player_gamertag|  medal_id|count|\n",
      "+--------------------+---------------+----------+-----+\n",
      "|009fdac5-e15c-47c...|       EcZachly|3261908037|    7|\n",
      "|009fdac5-e15c-47c...|       EcZachly| 824733727|    2|\n",
      "|009fdac5-e15c-47c...|       EcZachly|2078758684|    2|\n",
      "|009fdac5-e15c-47c...|       EcZachly|2782465081|    2|\n",
      "|9169d1a3-955c-4ea...|       EcZachly|3001183151|    1|\n",
      "+--------------------+---------------+----------+-----+\n",
      "only showing top 5 rows\n"
     ]
    }
   ],
   "source": [
    "# inspect all loaded dfs\n",
    "df_maps.show(5)\n",
    "df_matches.show(5)\n",
    "df_medals.show(5)\n",
    "df_match_details.show(5)\n",
    "df_medals_matches_players.show(5)"
   ]
  },
  {
   "cell_type": "code",
   "execution_count": null,
   "id": "6d08832b",
   "metadata": {},
   "outputs": [],
   "source": [
    "# print(\"Creating bucketed match_details table...\")\n",
    "# df_matches.write \\\n",
    "#     .mode(\"overwrite\") \\\n",
    "#     .bucketBy(16, \"match_id\") \\\n",
    "#     .sortBy(\"match_id\") \\\n",
    "#     .option(\"path\", \"/tmp/bucketed_tables/match_details\") \\\n",
    "#     .saveAsTable(\"bucketed_match_details\")"
   ]
  },
  {
   "cell_type": "code",
   "execution_count": null,
   "id": "56570e41",
   "metadata": {},
   "outputs": [],
   "source": [
    "# print(\"Creating bucketed match_details table...\")\n",
    "# df_maps.write \\\n",
    "#     .mode(\"overwrite\") \\\n",
    "#     .bucketBy(16, \"mapid\") \\\n",
    "#     .sortBy(\"mapid\") \\\n",
    "#     .option(\"path\", \"/tmp/bucketed_tables/match_details\") \\\n",
    "#     .saveAsTable(\"bucketed_maps\")"
   ]
  },
  {
   "cell_type": "code",
   "execution_count": 10,
   "id": "3fab6dd4",
   "metadata": {},
   "outputs": [
    {
     "name": "stderr",
     "output_type": "stream",
     "text": [
      "                                                                                \r"
     ]
    }
   ],
   "source": [
    "spark.conf.set(\"spark.sql.sources.bucketing.enabled\", \"true\")\n",
    "spark.conf.set(\"spark.sql.sources.bucketing.autoBucketedScan.enabled\", \"true\")\n",
    "\n",
    "\n",
    "# Bucket match_details, matches, and medals_matches_players on match_id with 16 buckets\n",
    "df_match_details.write.bucketBy(16, \"match_id\").saveAsTable(\"bucketed_match_details\")\n",
    "df_matches.write.bucketBy(16, \"match_id\").saveAsTable(\"bucketed_matches\")\n",
    "df_medals_matches_players.write.bucketBy(16, \"match_id\").saveAsTable(\"bucketed_medals_matches_players\")\n",
    "\n",
    "# regular broadcast\n",
    "\n",
    "df_medals.write.saveAsTable(\"broadcast_medals\")\n",
    "\n",
    "df_maps.write.saveAsTable(\"broadcast_maps\")\n"
   ]
  },
  {
   "cell_type": "code",
   "execution_count": 11,
   "id": "8a57e42e",
   "metadata": {},
   "outputs": [],
   "source": [
    "# Load bucketed tables\n",
    "bucketed_match_details = spark.table(\"bucketed_match_details\")\n",
    "bucketed_matches = spark.table(\"bucketed_matches\")\n",
    "bucketed_medals_matches_players = spark.table(\"bucketed_medals_matches_players\")\n",
    "    "
   ]
  },
  {
   "cell_type": "code",
   "execution_count": 12,
   "id": "bc0c0f34",
   "metadata": {},
   "outputs": [],
   "source": [
    "# Load broadcast tables\n",
    "df_medals = spark.table(\"broadcast_medals\")\n",
    "df_maps = spark.table(\"broadcast_maps\")"
   ]
  },
  {
   "cell_type": "code",
   "execution_count": 13,
   "id": "01121731",
   "metadata": {},
   "outputs": [],
   "source": [
    "# manually broadcast medals and maps\n",
    "broadcast_medals = broadcast(df_medals)\n",
    "broadcast_maps = broadcast(df_maps)"
   ]
  },
  {
   "cell_type": "code",
   "execution_count": 60,
   "id": "32c723e3",
   "metadata": {},
   "outputs": [
    {
     "name": "stdout",
     "output_type": "stream",
     "text": [
      "+---------------+--------------------+-----------+\n",
      "|      namespace|           tableName|isTemporary|\n",
      "+---------------+--------------------+-----------+\n",
      "|gaming_analysis|      broadcast_maps|      false|\n",
      "|gaming_analysis|    broadcast_medals|      false|\n",
      "|gaming_analysis|bucketed_match_de...|      false|\n",
      "|gaming_analysis|    bucketed_matches|      false|\n",
      "|gaming_analysis|bucketed_medals_m...|      false|\n",
      "|               |  match_player_table|       true|\n",
      "|               |               tests|       true|\n",
      "+---------------+--------------------+-----------+\n",
      "\n"
     ]
    }
   ],
   "source": [
    "# show table in warehouse\n",
    "spark.sql(\"SHOW TABLES\").show()"
   ]
  },
  {
   "cell_type": "code",
   "execution_count": null,
   "id": "466ba231",
   "metadata": {},
   "outputs": [],
   "source": [
    "# The optimized join strategy with aliases\n",
    "optimized_join = bucketed_match_details.alias(\"md\") \\\n",
    "    .join(bucketed_matches.alias(\"m\"), \"match_id\") \\\n",
    "    .join(bucketed_medals_matches_players.alias(\"mmp\"), [\"match_id\", \"player_gamertag\"], \"left\")\n",
    "\n",
    "optimized_join.show(5)"
   ]
  },
  {
   "cell_type": "code",
   "execution_count": null,
   "id": "6dbfc99d",
   "metadata": {},
   "outputs": [],
   "source": [
    "# The optimized join strategy with aliases\n",
    "optimized_join = bucketed_match_details.alias(\"md\") \\\n",
    "    .join(bucketed_matches.alias(\"m\"), \"match_id\") \\\n",
    "    .join(bucketed_medals_matches_players.alias(\"mmp\"), [\"match_id\"], \"left\")\n",
    "\n",
    "match_player_table = optimized_join.select(\n",
    "    \"match_id\",\n",
    "    \"player_gamertag\",\n",
    "    \"player_total_kills\",\n",
    "    \"mapid\",\n",
    "    \"playlist_id\",\n",
    "    \"medal_id\"\n",
    ")\n",
    "match_player_table.show(5)"
   ]
  },
  {
   "cell_type": "code",
   "execution_count": 32,
   "id": "24f29791",
   "metadata": {},
   "outputs": [
    {
     "name": "stdout",
     "output_type": "stream",
     "text": [
      "+--------------------+---------------+------------------+--------------------+--------------------+----------+\n",
      "|            match_id|player_gamertag|player_total_kills|               mapid|         playlist_id|  medal_id|\n",
      "+--------------------+---------------+------------------+--------------------+--------------------+----------+\n",
      "|10e1688e-f0ad-4ab...|    Sky Carries|                10|c7edbf0f-f206-11e...|f72e0ef0-7c4a-430...|3261908037|\n",
      "|10e1688e-f0ad-4ab...|    Sky Carries|                10|c7edbf0f-f206-11e...|f72e0ef0-7c4a-430...|2838259753|\n",
      "|10e1688e-f0ad-4ab...|    Sky Carries|                10|c7edbf0f-f206-11e...|f72e0ef0-7c4a-430...|3491849182|\n",
      "|10e1688e-f0ad-4ab...|    Sky Carries|                10|c7edbf0f-f206-11e...|f72e0ef0-7c4a-430...|2430242797|\n",
      "|10e1688e-f0ad-4ab...|    Sky Carries|                10|c7edbf0f-f206-11e...|f72e0ef0-7c4a-430...| 824733727|\n",
      "+--------------------+---------------+------------------+--------------------+--------------------+----------+\n",
      "only showing top 5 rows\n"
     ]
    }
   ],
   "source": [
    "# join match, match_details and, medals_matches_players buckets\n",
    "\n",
    "match_player_table = spark.sql(\"\"\"SELECT  \n",
    "    m.match_id,\n",
    "    md.player_gamertag,\n",
    "    md.player_total_kills,\n",
    "    m.mapid,\n",
    "    m.playlist_id,\n",
    "    mmp.medal_id\n",
    "FROM bucketed_matches m\n",
    "LEFT JOIN bucketed_match_details md \n",
    "       ON m.match_id = md.match_id\n",
    "LEFT JOIN bucketed_medals_matches_players mmp \n",
    "       ON md.match_id = mmp.match_id\"\"\")\n",
    "    \n",
    "match_player_table.show(5)"
   ]
  },
  {
   "cell_type": "code",
   "execution_count": 33,
   "id": "fd093f51",
   "metadata": {},
   "outputs": [
    {
     "name": "stdout",
     "output_type": "stream",
     "text": [
      "== Physical Plan ==\n",
      "AdaptiveSparkPlan isFinalPlan=false\n",
      "+- Project [match_id#671, player_gamertag#636, player_total_kills#654, mapid#672, playlist_id#674, medal_id#683L]\n",
      "   +- SortMergeJoin [match_id#635], [match_id#681], LeftOuter\n",
      "      :- Sort [match_id#635 ASC NULLS FIRST], false, 0\n",
      "      :  +- Exchange hashpartitioning(match_id#635, 16), ENSURE_REQUIREMENTS, [plan_id=2073]\n",
      "      :     +- SortMergeJoin [match_id#671], [match_id#635], LeftOuter\n",
      "      :        :- Sort [match_id#671 ASC NULLS FIRST], false, 0\n",
      "      :        :  +- FileScan parquet spark_catalog.gaming_analysis.bucketed_matches[match_id#671,mapid#672,playlist_id#674] Batched: true, Bucketed: true, DataFilters: [], Format: Parquet, Location: InMemoryFileIndex(1 paths)[file:/home/dataspiro/spark-warehouse/gaming_analysis.db/bucketed_matches], PartitionFilters: [], PushedFilters: [], ReadSchema: struct<match_id:string,mapid:string,playlist_id:string>, SelectedBucketsCount: 16 out of 16\n",
      "      :        +- Sort [match_id#635 ASC NULLS FIRST], false, 0\n",
      "      :           +- Filter isnotnull(match_id#635)\n",
      "      :              +- FileScan parquet spark_catalog.gaming_analysis.bucketed_match_details[match_id#635,player_gamertag#636,player_total_kills#654] Batched: true, Bucketed: true, DataFilters: [isnotnull(match_id#635)], Format: Parquet, Location: InMemoryFileIndex(1 paths)[file:/home/dataspiro/spark-warehouse/gaming_analysis.db/bucketed_match..., PartitionFilters: [], PushedFilters: [IsNotNull(match_id)], ReadSchema: struct<match_id:string,player_gamertag:string,player_total_kills:int>, SelectedBucketsCount: 16 out of 16\n",
      "      +- Sort [match_id#681 ASC NULLS FIRST], false, 0\n",
      "         +- Filter isnotnull(match_id#681)\n",
      "            +- FileScan parquet spark_catalog.gaming_analysis.bucketed_medals_matches_players[match_id#681,medal_id#683L] Batched: true, Bucketed: true, DataFilters: [isnotnull(match_id#681)], Format: Parquet, Location: InMemoryFileIndex(1 paths)[file:/home/dataspiro/spark-warehouse/gaming_analysis.db/bucketed_medal..., PartitionFilters: [], PushedFilters: [IsNotNull(match_id)], ReadSchema: struct<match_id:string,medal_id:bigint>, SelectedBucketsCount: 16 out of 16\n",
      "\n",
      "\n"
     ]
    }
   ],
   "source": [
    "# Check if your join is using bucket join\n",
    "match_player_table.explain()\n",
    "# Look for \"BucketedTableScan\" or \"BucketJoin\" in the plan"
   ]
  },
  {
   "cell_type": "code",
   "execution_count": 34,
   "id": "97de37e0",
   "metadata": {},
   "outputs": [
    {
     "name": "stderr",
     "output_type": "stream",
     "text": [
      "[Stage 80:=================================================>      (14 + 2) / 16]\r"
     ]
    },
    {
     "name": "stdout",
     "output_type": "stream",
     "text": [
      "+---------------+------------+---------------+\n",
      "|      player_id|games_played|avg_total_kills|\n",
      "+---------------+------------+---------------+\n",
      "|   gimpinator14|           1|          109.0|\n",
      "|  I Johann117 I|           1|           96.0|\n",
      "|BudgetLegendary|           1|           83.0|\n",
      "|      GsFurreal|           1|           75.0|\n",
      "|   TameablePoet|           2|          74.22|\n",
      "|   Sexy is Back|           1|           73.0|\n",
      "|   killerguy789|           1|           68.0|\n",
      "|THC GUILTYSPARK|           1|           67.0|\n",
      "|PrimePromethean|           1|           66.0|\n",
      "|    HisLattice1|           1|           66.0|\n",
      "+---------------+------------+---------------+\n",
      "\n"
     ]
    },
    {
     "name": "stderr",
     "output_type": "stream",
     "text": [
      "                                                                                \r"
     ]
    }
   ],
   "source": [
    "# question 1 - Average kills per player across all matches\n",
    "\n",
    "\n",
    "match_player_table.createOrReplaceTempView(\"match_player_table\") # Register the DataFrame as a temporary view for SQL queries\n",
    "\n",
    "ave_kill_per_player = spark.sql(\"\"\"\n",
    "    SELECT \n",
    "        player_gamertag AS player_id,\n",
    "        COUNT(DISTINCT match_id) AS games_played,\n",
    "        ROUND(AVG(player_total_kills), 2) AS avg_total_kills\n",
    "    FROM match_player_table\n",
    "    GROUP BY player_gamertag\n",
    "    ORDER BY avg_total_kills DESC\n",
    "    LIMIT 10\n",
    "\"\"\")\n",
    "ave_kill_per_player.show()"
   ]
  },
  {
   "cell_type": "code",
   "execution_count": null,
   "id": "884c28eb",
   "metadata": {},
   "outputs": [
    {
     "name": "stderr",
     "output_type": "stream",
     "text": [
      "[Stage 138:============================================>          (13 + 3) / 16]\r"
     ]
    },
    {
     "name": "stdout",
     "output_type": "stream",
     "text": [
      "+--------------------+-----------+\n",
      "|         playlist_id|no_of_plays|\n",
      "+--------------------+-----------+\n",
      "|f72e0ef0-7c4a-430...|    1567327|\n",
      "|780cc101-005c-4fc...|    1116197|\n",
      "|0bcf2be1-3168-4e4...|    1015907|\n",
      "|c98949ae-60a8-43d...|     825180|\n",
      "|2323b76a-db98-4e0...|     692432|\n",
      "|892189e9-d712-4bd...|     667953|\n",
      "|f27a65eb-2d11-496...|     167517|\n",
      "|355dc154-9809-4ed...|     140068|\n",
      "|d0766624-dbd7-453...|     138500|\n",
      "|bc0f8ad6-31e6-4a1...|     111186|\n",
      "+--------------------+-----------+\n",
      "\n"
     ]
    },
    {
     "name": "stderr",
     "output_type": "stream",
     "text": [
      "                                                                                \r"
     ]
    }
   ],
   "source": [
    "# question 2a  - most played playlist\n",
    "\n",
    "\n",
    "#match_player_table.createOrReplaceTempView(\"match_player_table\") # Register the DataFrame as a temporary view for SQL queries\n",
    "\n",
    "most_play_playlist = spark.sql(\"\"\"\n",
    "    SELECT \n",
    "        playlist_id,\n",
    "        COUNT(playlist_id) AS no_of_plays\n",
    "    FROM match_player_table\n",
    "    GROUP BY playlist_id\n",
    "    ORDER BY 2 DESC\n",
    "    LIMIT 10\n",
    "\"\"\")\n",
    "most_play_playlist.show()"
   ]
  },
  {
   "cell_type": "code",
   "execution_count": null,
   "id": "2398a412",
   "metadata": {},
   "outputs": [
    {
     "name": "stderr",
     "output_type": "stream",
     "text": [
      "[Stage 130:===================================================>   (15 + 1) / 16]\r"
     ]
    },
    {
     "name": "stdout",
     "output_type": "stream",
     "text": [
      "+--------------------+-------------+--------------+\n",
      "|         playlist_id|total_matches|unique_players|\n",
      "+--------------------+-------------+--------------+\n",
      "|f72e0ef0-7c4a-430...|         9350|         22057|\n",
      "|2323b76a-db98-4e0...|         3244|          9919|\n",
      "|892189e9-d712-4bd...|         2159|          9779|\n",
      "|c98949ae-60a8-43d...|         1984|          8887|\n",
      "|b50c4dc2-6c86-4d7...|         1462|             0|\n",
      "|0e39ead4-383b-445...|          909|             0|\n",
      "|f27a65eb-2d11-496...|          701|          3476|\n",
      "|d0766624-dbd7-453...|          643|          2537|\n",
      "|0bcf2be1-3168-4e4...|          564|          6868|\n",
      "|780cc101-005c-4fc...|          527|          6101|\n",
      "+--------------------+-------------+--------------+\n",
      "only showing top 10 rows\n"
     ]
    },
    {
     "name": "stderr",
     "output_type": "stream",
     "text": [
      "                                                                                \r"
     ]
    }
   ],
   "source": [
    "# question 2b - most played playlist by players and matches\n",
    "\n",
    "most_play_playlist = spark.sql(\"\"\"\n",
    "    SELECT \n",
    "        playlist_id,\n",
    "        COUNT(DISTINCT match_id) as total_matches,\n",
    "        COUNT(DISTINCT player_gamertag) as unique_players\n",
    "    FROM match_player_table\n",
    "    GROUP BY playlist_id\n",
    "    ORDER BY 2 DESC\n",
    "    LIMIT 10\n",
    "\"\"\")\n",
    "most_play_playlist.show()"
   ]
  },
  {
   "cell_type": "code",
   "execution_count": null,
   "id": "4ac5a466",
   "metadata": {},
   "outputs": [
    {
     "name": "stderr",
     "output_type": "stream",
     "text": [
      "[Stage 159:==================================>                    (10 + 5) / 16]\r"
     ]
    },
    {
     "name": "stdout",
     "output_type": "stream",
     "text": [
      "+--------------------+-----------+\n",
      "|               mapid|no_of_plays|\n",
      "+--------------------+-----------+\n",
      "|c74c9d0f-f206-11e...|    1446047|\n",
      "|c7edbf0f-f206-11e...|    1436691|\n",
      "|c7805740-f206-11e...|     953559|\n",
      "|cdb934b0-f206-11e...|     396464|\n",
      "|cb914b9e-f206-11e...|     309154|\n",
      "|ce1dc2de-f206-11e...|     299858|\n",
      "|cebd854f-f206-11e...|     299029|\n",
      "|caacb800-f206-11e...|     291609|\n",
      "|cd844200-f206-11e...|     261249|\n",
      "|cc040aa1-f206-11e...|     257047|\n",
      "+--------------------+-----------+\n",
      "\n"
     ]
    },
    {
     "name": "stderr",
     "output_type": "stream",
     "text": [
      "                                                                                \r"
     ]
    }
   ],
   "source": [
    "# question 3a most played on map\n",
    "\n",
    "most_played_map= spark.sql ('''SELECT \n",
    "        mapid,\n",
    "        COUNT(mapid) AS no_of_plays\n",
    "    FROM match_player_table\n",
    "    GROUP BY mapid\n",
    "    ORDER BY 2 DESC\n",
    "    LIMIT 10\n",
    "                            ''')\n",
    "\n",
    "most_played_map.show()"
   ]
  },
  {
   "cell_type": "code",
   "execution_count": null,
   "id": "83d325e0",
   "metadata": {},
   "outputs": [
    {
     "name": "stderr",
     "output_type": "stream",
     "text": [
      "[Stage 163:=========================================>             (12 + 4) / 16]\r"
     ]
    },
    {
     "name": "stdout",
     "output_type": "stream",
     "text": [
      "+--------------------+-------------+--------------+\n",
      "|               mapid|total_matches|unique_players|\n",
      "+--------------------+-------------+--------------+\n",
      "|c7edbf0f-f206-11e...|         8587|         21356|\n",
      "|cdb934b0-f206-11e...|         1489|          6996|\n",
      "|c74c9d0f-f206-11e...|         1461|         12403|\n",
      "|cb914b9e-f206-11e...|         1088|          5550|\n",
      "|c7805740-f206-11e...|         1052|          7949|\n",
      "|ce1dc2de-f206-11e...|         1036|          5209|\n",
      "|caacb800-f206-11e...|          996|          5293|\n",
      "|cdee4e70-f206-11e...|          982|          4966|\n",
      "|cebd854f-f206-11e...|          971|          5331|\n",
      "|cd844200-f206-11e...|          915|          4780|\n",
      "+--------------------+-------------+--------------+\n",
      "\n"
     ]
    },
    {
     "name": "stderr",
     "output_type": "stream",
     "text": [
      "                                                                                \r"
     ]
    }
   ],
   "source": [
    "# question 3b most played on map by players and matches\n",
    "\n",
    "most_played_map= spark.sql ('''SELECT \n",
    "        mapid,\n",
    "        COUNT(DISTINCT match_id) as total_matches,\n",
    "        COUNT(DISTINCT player_gamertag) as unique_players\n",
    "    FROM match_player_table\n",
    "    GROUP BY mapid\n",
    "    ORDER BY 2 DESC\n",
    "    LIMIT 10\n",
    "                            ''')\n",
    "\n",
    "most_played_map.show()"
   ]
  },
  {
   "cell_type": "code",
   "execution_count": null,
   "id": "b1409fae",
   "metadata": {},
   "outputs": [
    {
     "name": "stderr",
     "output_type": "stream",
     "text": [
      "[Stage 219:==================================>                      (3 + 2) / 5]\r"
     ]
    },
    {
     "name": "stdout",
     "output_type": "stream",
     "text": [
      "+--------------------+-------------------+\n",
      "|              map_id|killing_spree_count|\n",
      "+--------------------+-------------------+\n",
      "|c7edbf0f-f206-11e...|               1212|\n",
      "|c7edbf0f-f206-11e...|               1187|\n",
      "|c7edbf0f-f206-11e...|                769|\n",
      "|c7edbf0f-f206-11e...|                652|\n",
      "|c74c9d0f-f206-11e...|                515|\n",
      "|c7edbf0f-f206-11e...|                496|\n",
      "|c7805740-f206-11e...|                482|\n",
      "|c7edbf0f-f206-11e...|                474|\n",
      "|cdb934b0-f206-11e...|                422|\n",
      "|c7edbf0f-f206-11e...|                409|\n",
      "+--------------------+-------------------+\n",
      "\n"
     ]
    },
    {
     "name": "stderr",
     "output_type": "stream",
     "text": [
      "                                                                                \r"
     ]
    }
   ],
   "source": [
    "# Question 4 - Top 10 killing spree medals by map\n",
    "\n",
    "killing_spree = spark.sql (''' SELECT \n",
    "        mpt.mapid AS map_id, \n",
    "        COUNT(*) AS killing_spree_count\n",
    "        FROM match_player_table mpt\n",
    "        JOIN broadcast_medals bcm\n",
    "        ON mpt.medal_id = bcm.medal_id\n",
    "        WHERE bcm.name = 'Killing Spree'\n",
    "        GROUP BY mpt.mapid, mpt.player_gamertag \n",
    "        ORDER BY killing_spree_count DESC \n",
    "        LIMIT 10''')\n",
    "\n",
    "killing_spree.show()"
   ]
  },
  {
   "cell_type": "code",
   "execution_count": null,
   "id": "5d43b774",
   "metadata": {},
   "outputs": [],
   "source": []
  }
 ],
 "metadata": {
  "kernelspec": {
   "display_name": "boot",
   "language": "python",
   "name": "python3"
  },
  "language_info": {
   "codemirror_mode": {
    "name": "ipython",
    "version": 3
   },
   "file_extension": ".py",
   "mimetype": "text/x-python",
   "name": "python",
   "nbconvert_exporter": "python",
   "pygments_lexer": "ipython3",
   "version": "3.9.23"
  }
 },
 "nbformat": 4,
 "nbformat_minor": 5
}
